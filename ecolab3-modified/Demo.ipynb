{
 "cells": [
  {
   "cell_type": "markdown",
   "metadata": {
    "id": "v0IDfuTyzGfk"
   },
   "source": [
    "# Ecolab3 demo\n",
    "\n",
    "Ecolab3 was based on Mike Croucher's python version and Dawn Walker's original MATLAB version. This one has a few additions, such as regrowing grass, etc.\n",
    "\n",
    "This notebook just shows how to use the default ecolab3. There are some parameters you can access through the constructors, while others you might need to edit the agent.py or environment.py. Later you'll want to edit the actual methods.\n"
   ]
  },
  {
   "cell_type": "markdown",
   "metadata": {
    "id": "7uE0t7os1udh"
   },
   "source": [
    "## Installing ecolab3\n",
    "\n",
    "This block only needs running once. It downloads and installs the ecolab3 module from github. Comment it out once you've done it."
   ]
  },
  {
   "cell_type": "code",
   "execution_count": 1,
   "metadata": {
    "colab": {
     "base_uri": "https://localhost:8080/"
    },
    "id": "T9e9iyI9zQpw",
    "outputId": "785a6f35-5ea7-4e19-d361-3f76bbd50f75"
   },
   "outputs": [],
   "source": [
    "#Handles installing ecolab3 for the first time\n",
    "#!git clone https://github.com/lionfish0/ecolab3.git\n",
    "#!pip install -e ./ecolab3\n",
    "#You will need to *restart runtime*, so the module is available.\n",
    "#the exit command will restart it for you...\n",
    "#exit()"
   ]
  },
  {
   "cell_type": "code",
   "execution_count": 2,
   "metadata": {
    "id": "WmF0qShRzGfo"
   },
   "outputs": [],
   "source": [
    "import numpy as np\n",
    "import matplotlib.pyplot as plt\n",
    "from ecolab3.environment import Environment\n",
    "from ecolab3.agents import Worker, Scout, Queen, Nest\n",
    "from ecolab3 import run_ecolab, draw_animation, get_agent_counts"
   ]
  },
  {
   "cell_type": "code",
   "execution_count": 3,
   "metadata": {
    "id": "gyOflkfWzGfr",
    "scrolled": false
   },
   "outputs": [],
   "source": [
    "#create default environment\n",
    "env = Environment(shape=[80,80])\n",
    "    \n",
    "#create agents (rabbits and foxes)\n",
    "Nworkers = 20\n",
    "Nscouts = 5\n",
    "Nqueens = 1\n",
    "Nnest = 1\n",
    "agents = []\n",
    "\n",
    "center = env.get_center()\n",
    "\n",
    "for i in range(Nworkers):\n",
    "    w = Worker(position=center)\n",
    "    agents.append(w)\n",
    "for i in range(Nscouts):\n",
    "    s = Scout(position=center)\n",
    "    agents.append(s)\n",
    "agents.append(Queen(position=center))\n",
    "agents.append(Nest(position=center, age=1))\n",
    "\n",
    "env.randomise_food_initially()"
   ]
  },
  {
   "cell_type": "code",
   "execution_count": null,
   "metadata": {
    "colab": {
     "base_uri": "https://localhost:8080/"
    },
    "id": "x_SfTciYzGfs",
    "outputId": "483f82f2-ebac-4d19-fa8f-61cc47bf4c75"
   },
   "outputs": [],
   "source": [
    "#run the simulation (default = 1000 iterations)\n",
    "\"\"\"\n",
    "Note: For whatever reason, the system is extremely temperamental, causing an IndexError occasionally.\n",
    "The fix is to reset the kernel, then reset the entire Jupyter server (close the webpage, close the .ipynb, then reopen).\n",
    "The system does work correctly, however I haven't figured out why this error happens sometimes.\n",
    "\"\"\"\n",
    "record = run_ecolab(env,agents)"
   ]
  },
  {
   "cell_type": "code",
   "execution_count": null,
   "metadata": {
    "id": "PsytEEFtzGfu"
   },
   "outputs": [],
   "source": [
    "#If you want to save your data, use this:\n",
    "#import pickle\n",
    "#pickle.dump(record,open('myrecord.pkl','wb'))\n",
    "\n",
    "#to load it later, use this:\n",
    "#record = pickle.load(open('myrecord.pkl','rb'))\n",
    "# record[9]['pheromones']"
   ]
  },
  {
   "cell_type": "code",
   "execution_count": null,
   "metadata": {
    "colab": {
     "base_uri": "https://localhost:8080/",
     "height": 679
    },
    "id": "3JffH8knzGfv",
    "outputId": "ba6bff53-04c4-4589-dd8e-a335f593480d",
    "scrolled": false
   },
   "outputs": [],
   "source": [
    "#need to use %matplotlib notebook\n",
    "%matplotlib notebook \n",
    "fig = plt.figure( figsize=(8,8) )\n",
    "draw_animation(fig,record[::5],5,saveto='test_anim.mp4') #draw every 5th frame"
   ]
  },
  {
   "cell_type": "markdown",
   "metadata": {
    "id": "h7xzHBUGzGfx"
   },
   "source": [
    "We might want to just look at general statistics, e.g. how the number of rabbits and foxes fluctuates"
   ]
  },
  {
   "cell_type": "code",
   "execution_count": null,
   "metadata": {
    "colab": {
     "base_uri": "https://localhost:8080/",
     "height": 279
    },
    "id": "qe2pOkBkzGfy",
    "outputId": "b86ef47f-789d-462b-87a0-915bdbe8a9ef"
   },
   "outputs": [],
   "source": [
    "%matplotlib inline\n",
    "counts = get_agent_counts(record)\n",
    "plt.figure(figsize=[8,4])\n",
    "plt.plot(counts[:,0],label='workers')\n",
    "plt.plot(counts[:,1],label='scouts')\n",
    "plt.plot(counts[:,2],label='queens')\n",
    "plt.plot(counts[:,4]/2,'k-',label='food') #/2 to get on same scale\n",
    "plt.legend()\n",
    "plt.grid()\n",
    "plt.xlabel('Iteration')\n",
    "plt.ylabel('Count');"
   ]
  },
  {
   "cell_type": "markdown",
   "metadata": {
    "id": "ZiZ6Yv8hzGfz"
   },
   "source": [
    "1) Most times I've run this it seems the grass grows, then the rabbits suddenly grow, the foxes grow in response. The grass is eaten. Then the combined effect of less grass and more foxes causes the rabbit population to drop to zero. (sometimes other things happen, like the fox population doesn't survive initially)\n",
    "\n",
    "2) What happens if the foxes are less good predators (reduce their speed from 5 to 2 or 3?)? Explain?\n",
    "\n",
    "3) What happens if there are no foxes?\n",
    "\n",
    "4) There are a lot of parameters to play with. You should also start exploring the code (agents.py and environment.py) to see what you can alter to get different behaviour.\n",
    "\n",
    "Note: Although it's tempting to think that oscillations are Lotka-Volterra (Predator-Prey) interactions between the rabbits and the foxes, it might be that they are caused by grass-rabbit iteractions. The plot of the grass count reveals this might be the case..."
   ]
  },
  {
   "cell_type": "code",
   "execution_count": null,
   "metadata": {
    "id": "d8YGKx6g3pf_"
   },
   "outputs": [],
   "source": []
  },
  {
   "cell_type": "code",
   "execution_count": null,
   "metadata": {},
   "outputs": [],
   "source": []
  },
  {
   "cell_type": "code",
   "execution_count": null,
   "metadata": {},
   "outputs": [],
   "source": []
  },
  {
   "cell_type": "code",
   "execution_count": null,
   "metadata": {},
   "outputs": [],
   "source": []
  }
 ],
 "metadata": {
  "colab": {
   "name": "Demo.ipynb",
   "provenance": []
  },
  "kernelspec": {
   "display_name": "Python 3 (ipykernel)",
   "language": "python",
   "name": "python3"
  },
  "language_info": {
   "codemirror_mode": {
    "name": "ipython",
    "version": 3
   },
   "file_extension": ".py",
   "mimetype": "text/x-python",
   "name": "python",
   "nbconvert_exporter": "python",
   "pygments_lexer": "ipython3",
   "version": "3.9.7"
  }
 },
 "nbformat": 4,
 "nbformat_minor": 1
}
